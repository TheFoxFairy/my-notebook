{
 "cells": [
  {
   "cell_type": "code",
   "execution_count": 1,
   "metadata": {
    "ExecuteTime": {
     "end_time": "2021-01-24T13:15:36.296371Z",
     "start_time": "2021-01-24T13:15:35.836637Z"
    }
   },
   "outputs": [],
   "source": [
    "from __future__ import print_function\n",
    "import torch\n",
    "import numpy as np"
   ]
  },
  {
   "cell_type": "code",
   "execution_count": 2,
   "metadata": {
    "ExecuteTime": {
     "end_time": "2021-01-24T13:15:36.308079Z",
     "start_time": "2021-01-24T13:15:36.297343Z"
    }
   },
   "outputs": [
    {
     "data": {
      "text/plain": [
       "tensor([[4.0888e-13, 7.2587e-43, 4.0884e-13],\n",
       "        [7.2587e-43, 4.0886e-13, 7.2587e-43],\n",
       "        [4.0886e-13, 7.2587e-43, 4.0884e-13],\n",
       "        [7.2587e-43, 4.0884e-13, 7.2587e-43],\n",
       "        [4.0885e-13, 7.2587e-43, 4.0885e-13]])"
      ]
     },
     "execution_count": 2,
     "metadata": {},
     "output_type": "execute_result"
    }
   ],
   "source": [
    "# 创建一个全为0的5x3矩阵\n",
    "x = torch.empty(5,3)\n",
    "x"
   ]
  },
  {
   "cell_type": "code",
   "execution_count": 3,
   "metadata": {
    "ExecuteTime": {
     "end_time": "2021-01-24T13:15:36.320710Z",
     "start_time": "2021-01-24T13:15:36.310879Z"
    }
   },
   "outputs": [
    {
     "data": {
      "text/plain": [
       "tensor([[0.0840, 0.8411, 0.3887],\n",
       "        [0.9234, 0.0475, 0.3064],\n",
       "        [0.3914, 0.2419, 0.1876],\n",
       "        [0.3999, 0.0638, 0.5622],\n",
       "        [0.0711, 0.7649, 0.4314]])"
      ]
     },
     "execution_count": 3,
     "metadata": {},
     "output_type": "execute_result"
    }
   ],
   "source": [
    "# 创建一个随机矩阵\n",
    "x = torch.rand(5,3)\n",
    "x"
   ]
  },
  {
   "cell_type": "code",
   "execution_count": 4,
   "metadata": {
    "ExecuteTime": {
     "end_time": "2021-01-24T13:15:36.327542Z",
     "start_time": "2021-01-24T13:15:36.321685Z"
    }
   },
   "outputs": [
    {
     "data": {
      "text/plain": [
       "tensor([[0, 0, 0],\n",
       "        [0, 0, 0],\n",
       "        [0, 0, 0],\n",
       "        [0, 0, 0],\n",
       "        [0, 0, 0]])"
      ]
     },
     "execution_count": 4,
     "metadata": {},
     "output_type": "execute_result"
    }
   ],
   "source": [
    "# 创建一个全为0，且数据类型为long的矩阵\n",
    "x = torch.zeros(5,3,dtype=torch.long)\n",
    "x"
   ]
  },
  {
   "cell_type": "code",
   "execution_count": 5,
   "metadata": {
    "ExecuteTime": {
     "end_time": "2021-01-24T13:15:36.333398Z",
     "start_time": "2021-01-24T13:15:36.328517Z"
    }
   },
   "outputs": [
    {
     "data": {
      "text/plain": [
       "tensor([[5, 3],\n",
       "        [2, 6]])"
      ]
     },
     "execution_count": 5,
     "metadata": {},
     "output_type": "execute_result"
    }
   ],
   "source": [
    "# 将数据转化为张量\n",
    "data = [\n",
    "    [5,3],\n",
    "    [2,6]\n",
    "]\n",
    "x = torch.tensor(data)\n",
    "x"
   ]
  },
  {
   "cell_type": "code",
   "execution_count": 6,
   "metadata": {
    "ExecuteTime": {
     "end_time": "2021-01-24T13:15:36.340229Z",
     "start_time": "2021-01-24T13:15:36.334373Z"
    }
   },
   "outputs": [
    {
     "data": {
      "text/plain": [
       "tensor([[5, 3],\n",
       "        [2, 6]], dtype=torch.int32)"
      ]
     },
     "execution_count": 6,
     "metadata": {},
     "output_type": "execute_result"
    }
   ],
   "source": [
    "data = np.array([\n",
    "    [5,3],\n",
    "    [2,6]\n",
    "])\n",
    "x = torch.tensor(data)\n",
    "x"
   ]
  },
  {
   "cell_type": "code",
   "execution_count": 7,
   "metadata": {
    "ExecuteTime": {
     "end_time": "2021-01-24T13:15:36.348039Z",
     "start_time": "2021-01-24T13:15:36.342183Z"
    }
   },
   "outputs": [
    {
     "data": {
      "text/plain": [
       "tensor([[1., 1., 1.],\n",
       "        [1., 1., 1.],\n",
       "        [1., 1., 1.],\n",
       "        [1., 1., 1.],\n",
       "        [1., 1., 1.]], dtype=torch.float64)"
      ]
     },
     "execution_count": 7,
     "metadata": {},
     "output_type": "execute_result"
    }
   ],
   "source": [
    "# 根据已有的tensor建立新的tensor，除非用户提供新的值，否则这些方法将重用输入张量的属性\n",
    "x = x.new_ones(5,3,dtype=torch.double) # new_* methods take in sizes\n",
    "x"
   ]
  },
  {
   "cell_type": "code",
   "execution_count": 8,
   "metadata": {
    "ExecuteTime": {
     "end_time": "2021-01-24T13:15:36.354870Z",
     "start_time": "2021-01-24T13:15:36.349014Z"
    }
   },
   "outputs": [
    {
     "data": {
      "text/plain": [
       "tensor([[-0.2376,  1.9415, -0.6304],\n",
       "        [ 0.3284,  0.8042,  0.6505],\n",
       "        [ 1.1103,  2.0839, -0.0392],\n",
       "        [-0.2689,  0.5200,  0.2402],\n",
       "        [ 0.6214, -1.0464, -1.1207]])"
      ]
     },
     "execution_count": 8,
     "metadata": {},
     "output_type": "execute_result"
    }
   ],
   "source": [
    "x = torch.randn_like(x,dtype=torch.float)\n",
    "x"
   ]
  },
  {
   "cell_type": "code",
   "execution_count": 9,
   "metadata": {
    "ExecuteTime": {
     "end_time": "2021-01-24T13:15:36.359751Z",
     "start_time": "2021-01-24T13:15:36.355847Z"
    }
   },
   "outputs": [
    {
     "data": {
      "text/plain": [
       "torch.Size([5, 3])"
      ]
     },
     "execution_count": 9,
     "metadata": {},
     "output_type": "execute_result"
    }
   ],
   "source": [
    "# 获取张量的形状\n",
    "x.size()\n",
    "# torch.Size本质上还是tuple，所以支持tuple的一切操作。"
   ]
  },
  {
   "cell_type": "code",
   "execution_count": 10,
   "metadata": {
    "ExecuteTime": {
     "end_time": "2021-01-24T13:15:36.366582Z",
     "start_time": "2021-01-24T13:15:36.360727Z"
    }
   },
   "outputs": [
    {
     "data": {
      "text/plain": [
       "tensor([[ 0.1303,  2.3456, -0.3983],\n",
       "        [ 0.7492,  1.0057,  1.1466],\n",
       "        [ 1.3988,  2.1539, -0.0265],\n",
       "        [ 0.1278,  1.2550,  1.0558],\n",
       "        [ 1.0916, -0.7066, -0.3293]])"
      ]
     },
     "execution_count": 10,
     "metadata": {},
     "output_type": "execute_result"
    }
   ],
   "source": [
    "# 运算\n",
    "## 加法\n",
    "y = torch.rand(5,3)\n",
    "x+y"
   ]
  },
  {
   "cell_type": "code",
   "execution_count": 11,
   "metadata": {
    "ExecuteTime": {
     "end_time": "2021-01-24T13:15:36.372438Z",
     "start_time": "2021-01-24T13:15:36.367557Z"
    }
   },
   "outputs": [
    {
     "data": {
      "text/plain": [
       "tensor([[ 0.1303,  2.3456, -0.3983],\n",
       "        [ 0.7492,  1.0057,  1.1466],\n",
       "        [ 1.3988,  2.1539, -0.0265],\n",
       "        [ 0.1278,  1.2550,  1.0558],\n",
       "        [ 1.0916, -0.7066, -0.3293]])"
      ]
     },
     "execution_count": 11,
     "metadata": {},
     "output_type": "execute_result"
    }
   ],
   "source": [
    "torch.add(x,y)"
   ]
  },
  {
   "cell_type": "code",
   "execution_count": 12,
   "metadata": {
    "ExecuteTime": {
     "end_time": "2021-01-24T13:15:36.378294Z",
     "start_time": "2021-01-24T13:15:36.373414Z"
    }
   },
   "outputs": [
    {
     "data": {
      "text/plain": [
       "tensor([[ 0.1303,  2.3456, -0.3983],\n",
       "        [ 0.7492,  1.0057,  1.1466],\n",
       "        [ 1.3988,  2.1539, -0.0265],\n",
       "        [ 0.1278,  1.2550,  1.0558],\n",
       "        [ 1.0916, -0.7066, -0.3293]])"
      ]
     },
     "execution_count": 12,
     "metadata": {},
     "output_type": "execute_result"
    }
   ],
   "source": [
    "# 给定一个输出张量作为参数\n",
    "result = torch.empty(5,3)\n",
    "torch.add(x,y,out=result)\n",
    "result"
   ]
  },
  {
   "cell_type": "code",
   "execution_count": 13,
   "metadata": {
    "ExecuteTime": {
     "end_time": "2021-01-24T13:15:36.384151Z",
     "start_time": "2021-01-24T13:15:36.379270Z"
    }
   },
   "outputs": [
    {
     "data": {
      "text/plain": [
       "tensor([[ 0.1303,  2.3456, -0.3983],\n",
       "        [ 0.7492,  1.0057,  1.1466],\n",
       "        [ 1.3988,  2.1539, -0.0265],\n",
       "        [ 0.1278,  1.2550,  1.0558],\n",
       "        [ 1.0916, -0.7066, -0.3293]])"
      ]
     },
     "execution_count": 13,
     "metadata": {},
     "output_type": "execute_result"
    }
   ],
   "source": [
    "# 原地进行运算\n",
    "y.add_(x)\n",
    "y\n",
    "# 任何一个in-place改变张量的操作后面都固定一个_。例如x.copy_(y)、x.t_()将更改x"
   ]
  },
  {
   "cell_type": "code",
   "execution_count": 14,
   "metadata": {
    "ExecuteTime": {
     "end_time": "2021-01-24T13:15:36.390006Z",
     "start_time": "2021-01-24T13:15:36.385127Z"
    }
   },
   "outputs": [
    {
     "data": {
      "text/plain": [
       "tensor([ 1.9415,  0.8042,  2.0839,  0.5200, -1.0464])"
      ]
     },
     "execution_count": 14,
     "metadata": {},
     "output_type": "execute_result"
    }
   ],
   "source": [
    "# 也可以使用像标准的NumPy一样的各种索引操作：\n",
    "x[:,1]"
   ]
  },
  {
   "cell_type": "code",
   "execution_count": 15,
   "metadata": {
    "ExecuteTime": {
     "end_time": "2021-01-24T13:15:36.396838Z",
     "start_time": "2021-01-24T13:15:36.390982Z"
    }
   },
   "outputs": [
    {
     "data": {
      "text/plain": [
       "(torch.Size([4, 4]), torch.Size([16]), torch.Size([2, 8]))"
      ]
     },
     "execution_count": 15,
     "metadata": {},
     "output_type": "execute_result"
    }
   ],
   "source": [
    "# 改变形状：如果想改变形状，可以使用torch.view\n",
    "x = torch.rand(4,4)\n",
    "y = x.view(16)\n",
    "z = x.view(-1,8)\n",
    "x.size(),y.size(),z.size()"
   ]
  },
  {
   "cell_type": "code",
   "execution_count": 16,
   "metadata": {
    "ExecuteTime": {
     "end_time": "2021-01-24T13:15:36.402695Z",
     "start_time": "2021-01-24T13:15:36.397815Z"
    }
   },
   "outputs": [
    {
     "data": {
      "text/plain": [
       "(tensor([-2.0118]), -2.0118377208709717)"
      ]
     },
     "execution_count": 16,
     "metadata": {},
     "output_type": "execute_result"
    }
   ],
   "source": [
    "# 如果是仅包含一个元素的tensor，可以使用.item()来得到对应的python数值\n",
    "x = torch.randn(1)\n",
    "x,x.item()"
   ]
  },
  {
   "cell_type": "code",
   "execution_count": 17,
   "metadata": {
    "ExecuteTime": {
     "end_time": "2021-01-24T13:15:36.406598Z",
     "start_time": "2021-01-24T13:15:36.403670Z"
    }
   },
   "outputs": [],
   "source": [
    "# 超过100种tensor的运算操作，包括转置，索引，切片，数学运算， 线性代数，随机数等，具体访问这里\n",
    "# https://pytorch.org/docs/stable/torch.html"
   ]
  },
  {
   "cell_type": "code",
   "execution_count": 18,
   "metadata": {
    "ExecuteTime": {
     "end_time": "2021-01-24T13:15:36.410501Z",
     "start_time": "2021-01-24T13:15:36.407573Z"
    }
   },
   "outputs": [],
   "source": [
    "# 将一个Torch张量转换为一个NumPy数组是轻而易举的事情，反之亦然。\n",
    "# Torch张量和NumPy数组将共享它们的底层内存位置，因此当一个改变时,另外也会改变。\n"
   ]
  },
  {
   "cell_type": "code",
   "execution_count": 19,
   "metadata": {
    "ExecuteTime": {
     "end_time": "2021-01-24T13:15:36.417334Z",
     "start_time": "2021-01-24T13:15:36.411477Z"
    }
   },
   "outputs": [
    {
     "data": {
      "text/plain": [
       "tensor([1., 1., 1., 1., 1.])"
      ]
     },
     "execution_count": 19,
     "metadata": {},
     "output_type": "execute_result"
    }
   ],
   "source": [
    "# 将torch的Tensor转化为NumPy数组\n",
    "a = torch.ones(5)\n",
    "a"
   ]
  },
  {
   "cell_type": "code",
   "execution_count": 20,
   "metadata": {
    "ExecuteTime": {
     "end_time": "2021-01-24T13:15:36.423190Z",
     "start_time": "2021-01-24T13:15:36.418311Z"
    }
   },
   "outputs": [
    {
     "data": {
      "text/plain": [
       "array([1., 1., 1., 1., 1.], dtype=float32)"
      ]
     },
     "execution_count": 20,
     "metadata": {},
     "output_type": "execute_result"
    }
   ],
   "source": [
    "b = a.numpy()\n",
    "b"
   ]
  },
  {
   "cell_type": "code",
   "execution_count": 21,
   "metadata": {
    "ExecuteTime": {
     "end_time": "2021-01-24T13:15:36.430021Z",
     "start_time": "2021-01-24T13:15:36.424166Z"
    }
   },
   "outputs": [
    {
     "data": {
      "text/plain": [
       "(tensor([2., 2., 2., 2., 2.]), array([2., 2., 2., 2., 2.], dtype=float32))"
      ]
     },
     "execution_count": 21,
     "metadata": {},
     "output_type": "execute_result"
    }
   ],
   "source": [
    "# 看NumPy数组是如何改变里面的值的：\n",
    "a.add_(1)\n",
    "a,b"
   ]
  },
  {
   "cell_type": "code",
   "execution_count": 22,
   "metadata": {
    "ExecuteTime": {
     "end_time": "2021-01-24T13:15:36.438807Z",
     "start_time": "2021-01-24T13:15:36.432952Z"
    }
   },
   "outputs": [
    {
     "data": {
      "text/plain": [
       "(array([2., 2., 2., 2., 2.]),\n",
       " tensor([2., 2., 2., 2., 2.], dtype=torch.float64))"
      ]
     },
     "execution_count": 22,
     "metadata": {},
     "output_type": "execute_result"
    }
   ],
   "source": [
    "# 将NumPy数组转化为Torch张量\n",
    "## 看改变NumPy数组是如何自动改变Torch张量的：\n",
    "a = np.ones(5)\n",
    "b = torch.from_numpy(a)\n",
    "np.add(a,1,out=a)\n",
    "a,b"
   ]
  },
  {
   "cell_type": "code",
   "execution_count": 23,
   "metadata": {
    "ExecuteTime": {
     "end_time": "2021-01-24T13:15:36.443686Z",
     "start_time": "2021-01-24T13:15:36.440759Z"
    }
   },
   "outputs": [],
   "source": [
    "# CPU上的所有张量(CharTensor除外)都支持与Numpy的相互转换。"
   ]
  },
  {
   "cell_type": "code",
   "execution_count": 24,
   "metadata": {
    "ExecuteTime": {
     "end_time": "2021-01-24T13:15:36.447591Z",
     "start_time": "2021-01-24T13:15:36.444664Z"
    }
   },
   "outputs": [],
   "source": [
    "# CUDA上的张量\n",
    "## 张量可以使用.to方法移动到任何设备(device）上："
   ]
  },
  {
   "cell_type": "code",
   "execution_count": 25,
   "metadata": {
    "ExecuteTime": {
     "end_time": "2021-01-24T13:15:38.545854Z",
     "start_time": "2021-01-24T13:15:36.448566Z"
    }
   },
   "outputs": [
    {
     "name": "stdout",
     "output_type": "stream",
     "text": [
      "tensor([-1.0118], device='cuda:0')\n",
      "tensor([-1.0118], dtype=torch.float64)\n"
     ]
    }
   ],
   "source": [
    "# 当GPU可用时,可以运行以下代码\n",
    "# 将使用`torch.device`来将tensor移入和移出GPU\n",
    "\n",
    "if torch.cuda.is_available():\n",
    "    device = torch.device(\"cuda\") # CUDA设备对象\n",
    "    y = torch.ones_like(x,device=device) # 直接在GPU上创建tensor\n",
    "    x = x.to(device) # 或者使用'.to(\"cuda\")'方法\n",
    "    z = x+y\n",
    "    print(z)\n",
    "    print(z.to(\"cpu\",torch.double)) # '.to'也能在移动时改变dtype"
   ]
  },
  {
   "cell_type": "code",
   "execution_count": null,
   "metadata": {},
   "outputs": [],
   "source": []
  }
 ],
 "metadata": {
  "kernelspec": {
   "display_name": "Python 3",
   "language": "python",
   "name": "python3"
  },
  "language_info": {
   "codemirror_mode": {
    "name": "ipython",
    "version": 3
   },
   "file_extension": ".py",
   "mimetype": "text/x-python",
   "name": "python",
   "nbconvert_exporter": "python",
   "pygments_lexer": "ipython3",
   "version": "3.7.9"
  },
  "toc": {
   "base_numbering": 1,
   "nav_menu": {},
   "number_sections": true,
   "sideBar": true,
   "skip_h1_title": false,
   "title_cell": "Table of Contents",
   "title_sidebar": "Contents",
   "toc_cell": false,
   "toc_position": {},
   "toc_section_display": true,
   "toc_window_display": false
  }
 },
 "nbformat": 4,
 "nbformat_minor": 4
}
