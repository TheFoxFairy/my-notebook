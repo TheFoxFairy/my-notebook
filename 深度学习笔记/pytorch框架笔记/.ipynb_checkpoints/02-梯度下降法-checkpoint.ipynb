{
 "cells": [
  {
   "cell_type": "code",
   "execution_count": 1,
   "metadata": {
    "ExecuteTime": {
     "end_time": "2021-01-14T06:58:26.833039Z",
     "start_time": "2021-01-14T06:58:25.086358Z"
    }
   },
   "outputs": [],
   "source": [
    "import torch\n",
    "import numpy as np\n",
    "import matplotlib.pyplot as plt"
   ]
  },
  {
   "cell_type": "code",
   "execution_count": 2,
   "metadata": {
    "ExecuteTime": {
     "end_time": "2021-01-14T06:58:26.839868Z",
     "start_time": "2021-01-14T06:58:26.834012Z"
    }
   },
   "outputs": [
    {
     "data": {
      "text/plain": [
       "array([[1., 2.],\n",
       "       [2., 4.],\n",
       "       [3., 6.]])"
      ]
     },
     "execution_count": 2,
     "metadata": {},
     "output_type": "execute_result"
    }
   ],
   "source": [
    "data = np.array([\n",
    "    [1.0,2.0,3.0],\n",
    "    [2.0,4.0,6.0]\n",
    "]).T\n",
    "data"
   ]
  },
  {
   "cell_type": "code",
   "execution_count": 43,
   "metadata": {
    "ExecuteTime": {
     "end_time": "2021-01-14T07:31:23.309869Z",
     "start_time": "2021-01-14T07:31:23.299133Z"
    }
   },
   "outputs": [],
   "source": [
    "# 穷举法\n",
    "\n",
    "class LinearModel:\n",
    "    def __init__(self,eta = 0.01,batch_size=10):\n",
    "        self.w = None\n",
    "        self.eta = eta\n",
    "        self.batch_size = batch_size\n",
    "    \n",
    "    def init_params(self,data):\n",
    "        self.X,self.y = data[:,:-1],data[:,-1]\n",
    "        self.n_samples,self.n_features = self.X.shape\n",
    "        self.w = np.random.random(self.n_features)\n",
    "        self.b = np.random.random(1).flatten()[0]\n",
    "    \n",
    "    def cost(self,x,y):\n",
    "        y_pred = self.forward(x)\n",
    "        return (y_pred-y)**2\n",
    "    \n",
    "    def forward(self,x):\n",
    "        return self.w*x\n",
    "    \n",
    "    def backward(self,):\n",
    "        pass\n",
    "    \n",
    "    def gradient(self,x,y):\n",
    "        return 2*x*(x*self.w-y) \n",
    "    \n",
    "    def prediction(self,x):\n",
    "        return self.forward(x)\n",
    "    \n",
    "    def fit(self,data):\n",
    "        self.init_params(data)\n",
    "        X,y = data[:,:-1].flatten(),data[:,-1]\n",
    "        \n",
    "        loss_list = []\n",
    "        w_list = []\n",
    "        for epoch in range(100):\n",
    "            \n",
    "            Xy = np.c_[X,y]\n",
    "            np.random.shuffle(Xy)\n",
    "            for i in range(self.n_samples):\n",
    "            cost_val = self.cost(x,y)\n",
    "            grad_val = self.gradient(x,y)\n",
    "            self.w -= self.eta*grad_val\n",
    "            w_list.append(self.w)\n",
    "            loss_list.append(cost_val)\n",
    "            print(\"Epoch:{};w={};loss={}\".format(epoch,self.w,cost_val))\n",
    "        print(\"predict (after training)\",4,self.prediction(4))\n",
    "        self.plot(w_list,loss_list)\n",
    "    \n",
    "    def plot(self,w,loss):\n",
    "        plt.plot(np.arange(len(w)),w)\n",
    "        plt.plot(np.arange(len(w)),loss)\n",
    "\n",
    "lm = LinearModel()\n",
    "lm.fit(data)"
   ]
  },
  {
   "cell_type": "code",
   "execution_count": null,
   "metadata": {},
   "outputs": [],
   "source": [
    "# 梯度下降法\n"
   ]
  }
 ],
 "metadata": {
  "kernelspec": {
   "display_name": "Python 3",
   "language": "python",
   "name": "python3"
  },
  "language_info": {
   "codemirror_mode": {
    "name": "ipython",
    "version": 3
   },
   "file_extension": ".py",
   "mimetype": "text/x-python",
   "name": "python",
   "nbconvert_exporter": "python",
   "pygments_lexer": "ipython3",
   "version": "3.7.9"
  },
  "toc": {
   "base_numbering": 1,
   "nav_menu": {},
   "number_sections": true,
   "sideBar": true,
   "skip_h1_title": false,
   "title_cell": "Table of Contents",
   "title_sidebar": "Contents",
   "toc_cell": false,
   "toc_position": {},
   "toc_section_display": true,
   "toc_window_display": false
  }
 },
 "nbformat": 4,
 "nbformat_minor": 4
}
