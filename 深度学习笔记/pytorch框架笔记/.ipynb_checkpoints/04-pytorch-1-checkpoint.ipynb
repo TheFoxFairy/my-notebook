{
 "cells": [
  {
   "cell_type": "code",
   "execution_count": 1,
   "metadata": {
    "ExecuteTime": {
     "end_time": "2021-01-24T13:01:40.646132Z",
     "start_time": "2021-01-24T13:01:40.285849Z"
    }
   },
   "outputs": [],
   "source": [
    "from __future__ import print_function\n",
    "import torch\n",
    "import numpy as np"
   ]
  },
  {
   "cell_type": "code",
   "execution_count": 2,
   "metadata": {
    "ExecuteTime": {
     "end_time": "2021-01-24T13:01:40.655755Z",
     "start_time": "2021-01-24T13:01:40.646968Z"
    }
   },
   "outputs": [],
   "source": [
    "# 创建一个全为0的5x3矩阵\n",
    "x = torch.empty(5,3)\n",
    "x"
   ]
  },
  {
   "cell_type": "code",
   "execution_count": 3,
   "metadata": {
    "ExecuteTime": {
     "end_time": "2021-01-24T13:01:40.670124Z",
     "start_time": "2021-01-24T13:01:40.656727Z"
    }
   },
   "outputs": [],
   "source": [
    "# 创建一个随机矩阵\n",
    "x = torch.rand(5,3)\n",
    "x"
   ]
  },
  {
   "cell_type": "code",
   "execution_count": 4,
   "metadata": {
    "ExecuteTime": {
     "end_time": "2021-01-24T13:01:40.675001Z",
     "start_time": "2021-01-24T13:01:40.671096Z"
    }
   },
   "outputs": [],
   "source": [
    "# 创建一个全为0，且数据类型为long的矩阵\n",
    "x = torch.zeros(5,3,dtype=torch.long)\n",
    "x"
   ]
  },
  {
   "cell_type": "code",
   "execution_count": 5,
   "metadata": {
    "ExecuteTime": {
     "end_time": "2021-01-24T13:01:40.679882Z",
     "start_time": "2021-01-24T13:01:40.675977Z"
    }
   },
   "outputs": [
    {
     "data": {
      "text/plain": [
       "tensor([[5, 3],\n",
       "        [2, 6]])"
      ]
     },
     "execution_count": 5,
     "metadata": {},
     "output_type": "execute_result"
    }
   ],
   "source": [
    "# 将数据转化为张量\n",
    "data = [\n",
    "    [5,3],\n",
    "    [2,6]\n",
    "]\n",
    "x = torch.tensor(data)\n",
    "x"
   ]
  },
  {
   "cell_type": "code",
   "execution_count": 6,
   "metadata": {
    "ExecuteTime": {
     "end_time": "2021-01-24T13:01:40.685737Z",
     "start_time": "2021-01-24T13:01:40.680858Z"
    }
   },
   "outputs": [
    {
     "data": {
      "text/plain": [
       "tensor([[5, 3],\n",
       "        [2, 6]], dtype=torch.int32)"
      ]
     },
     "execution_count": 6,
     "metadata": {},
     "output_type": "execute_result"
    }
   ],
   "source": [
    "data = np.array([\n",
    "    [5,3],\n",
    "    [2,6]\n",
    "])\n",
    "x = torch.tensor(data)\n",
    "x"
   ]
  },
  {
   "cell_type": "code",
   "execution_count": 7,
   "metadata": {
    "ExecuteTime": {
     "end_time": "2021-01-24T13:02:54.310476Z",
     "start_time": "2021-01-24T13:02:54.293848Z"
    }
   },
   "outputs": [
    {
     "data": {
      "text/plain": [
       "tensor([[1., 1., 1.],\n",
       "        [1., 1., 1.],\n",
       "        [1., 1., 1.],\n",
       "        [1., 1., 1.],\n",
       "        [1., 1., 1.]], dtype=torch.float64)"
      ]
     },
     "execution_count": 7,
     "metadata": {},
     "output_type": "execute_result"
    }
   ],
   "source": [
    "# 根据已有的tensor建立新的tensor，除非用户提供新的值，否则这些方法将重用输入张量的属性\n",
    "x = x.new_ones(5,3,dtype=torch.double) # new_* methods take in sizes\n",
    "x"
   ]
  },
  {
   "cell_type": "code",
   "execution_count": 8,
   "metadata": {
    "ExecuteTime": {
     "end_time": "2021-01-24T13:03:43.323292Z",
     "start_time": "2021-01-24T13:03:43.307643Z"
    }
   },
   "outputs": [
    {
     "data": {
      "text/plain": [
       "tensor([[ 0.6873,  1.8442,  0.6341],\n",
       "        [-0.6039,  0.9479,  0.3862],\n",
       "        [-0.6079, -0.1076, -1.1518],\n",
       "        [ 0.5597,  0.4751,  1.9316],\n",
       "        [ 0.2835, -0.9347,  2.3212]])"
      ]
     },
     "execution_count": 8,
     "metadata": {},
     "output_type": "execute_result"
    }
   ],
   "source": [
    "x = torch.randn_like(x,dtype=torch.float)\n",
    "x"
   ]
  },
  {
   "cell_type": "code",
   "execution_count": 9,
   "metadata": {
    "ExecuteTime": {
     "end_time": "2021-01-24T13:04:12.272193Z",
     "start_time": "2021-01-24T13:04:12.267312Z"
    }
   },
   "outputs": [
    {
     "data": {
      "text/plain": [
       "torch.Size([5, 3])"
      ]
     },
     "execution_count": 9,
     "metadata": {},
     "output_type": "execute_result"
    }
   ],
   "source": [
    "# 获取张量的形状\n",
    "x.size()\n",
    "# torch.Size本质上还是tuple，所以支持tuple的一切操作。"
   ]
  },
  {
   "cell_type": "code",
   "execution_count": 10,
   "metadata": {
    "ExecuteTime": {
     "end_time": "2021-01-24T13:04:39.870695Z",
     "start_time": "2021-01-24T13:04:39.853084Z"
    }
   },
   "outputs": [
    {
     "data": {
      "text/plain": [
       "tensor([[ 0.9150,  2.3004,  0.9252],\n",
       "        [-0.4782,  1.2497,  0.8423],\n",
       "        [ 0.2438,  0.4289, -1.1050],\n",
       "        [ 1.0613,  1.2076,  2.5668],\n",
       "        [ 0.3622, -0.1104,  3.0721]])"
      ]
     },
     "execution_count": 10,
     "metadata": {},
     "output_type": "execute_result"
    }
   ],
   "source": [
    "# 运算\n",
    "## 加法\n",
    "y = torch.rand(5,3)\n",
    "x+y"
   ]
  },
  {
   "cell_type": "code",
   "execution_count": 11,
   "metadata": {
    "ExecuteTime": {
     "end_time": "2021-01-24T13:05:06.859939Z",
     "start_time": "2021-01-24T13:05:06.843818Z"
    }
   },
   "outputs": [
    {
     "data": {
      "text/plain": [
       "tensor([[ 0.9150,  2.3004,  0.9252],\n",
       "        [-0.4782,  1.2497,  0.8423],\n",
       "        [ 0.2438,  0.4289, -1.1050],\n",
       "        [ 1.0613,  1.2076,  2.5668],\n",
       "        [ 0.3622, -0.1104,  3.0721]])"
      ]
     },
     "execution_count": 11,
     "metadata": {},
     "output_type": "execute_result"
    }
   ],
   "source": [
    "torch.add(x,y)"
   ]
  },
  {
   "cell_type": "code",
   "execution_count": 12,
   "metadata": {
    "ExecuteTime": {
     "end_time": "2021-01-24T13:05:44.495229Z",
     "start_time": "2021-01-24T13:05:44.479074Z"
    }
   },
   "outputs": [
    {
     "data": {
      "text/plain": [
       "tensor([[ 0.9150,  2.3004,  0.9252],\n",
       "        [-0.4782,  1.2497,  0.8423],\n",
       "        [ 0.2438,  0.4289, -1.1050],\n",
       "        [ 1.0613,  1.2076,  2.5668],\n",
       "        [ 0.3622, -0.1104,  3.0721]])"
      ]
     },
     "execution_count": 12,
     "metadata": {},
     "output_type": "execute_result"
    }
   ],
   "source": [
    "# 给定一个输出张量作为参数\n",
    "result = torch.empty(5,3)\n",
    "torch.add(x,y,out=result)\n",
    "result"
   ]
  },
  {
   "cell_type": "code",
   "execution_count": 13,
   "metadata": {
    "ExecuteTime": {
     "end_time": "2021-01-24T13:06:09.099888Z",
     "start_time": "2021-01-24T13:06:09.083262Z"
    }
   },
   "outputs": [
    {
     "data": {
      "text/plain": [
       "tensor([[ 0.9150,  2.3004,  0.9252],\n",
       "        [-0.4782,  1.2497,  0.8423],\n",
       "        [ 0.2438,  0.4289, -1.1050],\n",
       "        [ 1.0613,  1.2076,  2.5668],\n",
       "        [ 0.3622, -0.1104,  3.0721]])"
      ]
     },
     "execution_count": 13,
     "metadata": {},
     "output_type": "execute_result"
    }
   ],
   "source": [
    "# 原地进行运算\n",
    "y.add_(x)\n",
    "y\n",
    "# 任何一个in-place改变张量的操作后面都固定一个_。例如x.copy_(y)、x.t_()将更改x"
   ]
  },
  {
   "cell_type": "code",
   "execution_count": 14,
   "metadata": {
    "ExecuteTime": {
     "end_time": "2021-01-24T13:06:36.192610Z",
     "start_time": "2021-01-24T13:06:36.187730Z"
    }
   },
   "outputs": [
    {
     "data": {
      "text/plain": [
       "tensor([ 1.8442,  0.9479, -0.1076,  0.4751, -0.9347])"
      ]
     },
     "execution_count": 14,
     "metadata": {},
     "output_type": "execute_result"
    }
   ],
   "source": [
    "# 也可以使用像标准的NumPy一样的各种索引操作：\n",
    "x[:,1]"
   ]
  },
  {
   "cell_type": "code",
   "execution_count": 15,
   "metadata": {
    "ExecuteTime": {
     "end_time": "2021-01-24T13:07:22.122044Z",
     "start_time": "2021-01-24T13:07:22.117165Z"
    }
   },
   "outputs": [
    {
     "data": {
      "text/plain": [
       "(torch.Size([4, 4]), torch.Size([16]), torch.Size([2, 8]))"
      ]
     },
     "execution_count": 15,
     "metadata": {},
     "output_type": "execute_result"
    }
   ],
   "source": [
    "# 改变形状：如果想改变形状，可以使用torch.view\n",
    "x = torch.rand(4,4)\n",
    "y = x.view(16)\n",
    "z = x.view(-1,8)\n",
    "x.size(),y.size(),z.size()"
   ]
  },
  {
   "cell_type": "code",
   "execution_count": 18,
   "metadata": {
    "ExecuteTime": {
     "end_time": "2021-01-24T13:07:52.569066Z",
     "start_time": "2021-01-24T13:07:52.563210Z"
    }
   },
   "outputs": [
    {
     "data": {
      "text/plain": [
       "(tensor([0.3010]), 0.3010398745536804)"
      ]
     },
     "execution_count": 18,
     "metadata": {},
     "output_type": "execute_result"
    }
   ],
   "source": [
    "# 如果是仅包含一个元素的tensor，可以使用.item()来得到对应的python数值\n",
    "x = torch.randn(1)\n",
    "x,x.item()"
   ]
  },
  {
   "cell_type": "code",
   "execution_count": null,
   "metadata": {},
   "outputs": [],
   "source": [
    "# 超过100种tensor的运算操作，包括转置，索引，切片，数学运算， 线性代数，随机数等，具体访问这里\n",
    "# https://pytorch.org/docs/stable/torch.html"
   ]
  }
 ],
 "metadata": {
  "kernelspec": {
   "display_name": "Python 3",
   "language": "python",
   "name": "python3"
  },
  "language_info": {
   "codemirror_mode": {
    "name": "ipython",
    "version": 3
   },
   "file_extension": ".py",
   "mimetype": "text/x-python",
   "name": "python",
   "nbconvert_exporter": "python",
   "pygments_lexer": "ipython3",
   "version": "3.7.9"
  },
  "toc": {
   "base_numbering": 1,
   "nav_menu": {},
   "number_sections": true,
   "sideBar": true,
   "skip_h1_title": false,
   "title_cell": "Table of Contents",
   "title_sidebar": "Contents",
   "toc_cell": false,
   "toc_position": {},
   "toc_section_display": true,
   "toc_window_display": false
  }
 },
 "nbformat": 4,
 "nbformat_minor": 4
}
