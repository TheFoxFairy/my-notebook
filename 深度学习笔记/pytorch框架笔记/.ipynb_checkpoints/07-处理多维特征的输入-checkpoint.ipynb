{
 "cells": [
  {
   "cell_type": "code",
   "execution_count": 5,
   "metadata": {
    "ExecuteTime": {
     "end_time": "2021-02-27T04:03:05.034698Z",
     "start_time": "2021-02-27T04:03:05.031289Z"
    }
   },
   "outputs": [],
   "source": [
    "import torch\n",
    "\n",
    "class LogisticRegressionModel(torch.nn.Module):\n",
    "    \n",
    "    def __init__(self,):\n",
    "        super(LogisticRegressionModel,self).__init__()\n",
    "        self.linear = torch.nn.Linear(8,1)\n",
    "        self.sigmoid = torch.nn.Sigmoid()\n",
    "        \n",
    "    def forward(self,X):\n",
    "        y_pred = self.sigmoid(self.linear(X))\n",
    "        return y_pred\n",
    "        \n",
    "lrm = LogisticRegressionModel()"
   ]
  },
  {
   "cell_type": "code",
   "execution_count": 26,
   "metadata": {
    "ExecuteTime": {
     "end_time": "2021-02-27T05:10:20.644414Z",
     "start_time": "2021-02-27T05:10:20.630749Z"
    }
   },
   "outputs": [],
   "source": [
    "import numpy as np\n",
    "\n",
    "xy = np.loadtxt(r'.\\数据集\\diabetes\\diabetes.csv.gz',delimiter=',',dtype=np.float32)\n",
    "x_data = torch.from_numpy(xy[:,:-1])\n",
    "y_data = torch.from_numpy(xy[:,[-1]]) # 注意如果直接使用-1，取出来的数据就是向量，而是用[-1]则是一个矩阵"
   ]
  },
  {
   "cell_type": "code",
   "execution_count": 35,
   "metadata": {
    "ExecuteTime": {
     "end_time": "2021-02-27T05:30:04.177829Z",
     "start_time": "2021-02-27T05:30:04.133910Z"
    }
   },
   "outputs": [],
   "source": [
    "import torch\n",
    "\n",
    "class Model(torch.nn.Module):\n",
    "    \n",
    "    def __init__(self,):\n",
    "        super(Model,self).__init__()\n",
    "        self.linear1 = torch.nn.Linear(8,6)\n",
    "        self.linear2 = torch.nn.Linear(6,4)\n",
    "        self.linear3 = torch.nn.Linear(4,1)\n",
    "        self.sigmoid = torch.nn.Sigmoid()\n",
    "        \n",
    "    def forward(self,X):\n",
    "        X = self.sigmoid(self.linear1(X))\n",
    "        X = self.sigmoid(self.linear2(X))\n",
    "        X = self.sigmoid(self.linear3(X))\n",
    "        \n",
    "        return X\n",
    "    \n",
    "lrm = LogisticRegressionModel()"
   ]
  },
  {
   "cell_type": "code",
   "execution_count": 36,
   "metadata": {
    "ExecuteTime": {
     "end_time": "2021-02-27T05:30:05.590892Z",
     "start_time": "2021-02-27T05:30:05.587613Z"
    }
   },
   "outputs": [],
   "source": [
    "criterion = torch.nn.BCELoss(reduction='sum')\n",
    "optimizer = torch.optim.SGD(lrm.parameters(),lr=0.1)"
   ]
  },
  {
   "cell_type": "code",
   "execution_count": 37,
   "metadata": {
    "ExecuteTime": {
     "end_time": "2021-02-27T05:30:06.016151Z",
     "start_time": "2021-02-27T05:30:05.825325Z"
    }
   },
   "outputs": [
    {
     "name": "stdout",
     "output_type": "stream",
     "text": [
      "0 540.93115234375\n",
      "1 26300.0\n",
      "2 26300.0\n",
      "3 26300.0\n",
      "4 26300.0\n",
      "5 26300.0\n",
      "6 26300.0\n",
      "7 26300.0\n",
      "8 26300.0\n",
      "9 26300.0\n",
      "10 26300.0\n",
      "11 26300.0\n",
      "12 26300.0\n",
      "13 26300.0\n",
      "14 26300.0\n",
      "15 26300.0\n",
      "16 26300.0\n",
      "17 26300.0\n",
      "18 26300.0\n",
      "19 26300.0\n",
      "20 26300.0\n",
      "21 26300.0\n",
      "22 26300.0\n",
      "23 26300.0\n",
      "24 26300.0\n",
      "25 26300.0\n",
      "26 26300.0\n",
      "27 26300.0\n",
      "28 26300.0\n",
      "29 26300.0\n",
      "30 26300.0\n",
      "31 26300.0\n",
      "32 26300.0\n",
      "33 26300.0\n",
      "34 26300.0\n",
      "35 26300.0\n",
      "36 26300.0\n",
      "37 26300.0\n",
      "38 26300.0\n",
      "39 26300.0\n",
      "40 26300.0\n",
      "41 26300.0\n",
      "42 26300.0\n",
      "43 26300.0\n",
      "44 26300.0\n",
      "45 26300.0\n",
      "46 26300.0\n",
      "47 26300.0\n",
      "48 26300.0\n",
      "49 26300.0\n",
      "50 26300.0\n",
      "51 26300.0\n",
      "52 26300.0\n",
      "53 26300.0\n",
      "54 26300.0\n",
      "55 26300.0\n",
      "56 26300.0\n",
      "57 26300.0\n",
      "58 26300.0\n",
      "59 26300.0\n",
      "60 26300.0\n",
      "61 26300.0\n",
      "62 26300.0\n",
      "63 26300.0\n",
      "64 26300.0\n",
      "65 26300.0\n",
      "66 26300.0\n",
      "67 26300.0\n",
      "68 26300.0\n",
      "69 26300.0\n",
      "70 26300.0\n",
      "71 26300.0\n",
      "72 26300.0\n",
      "73 26300.0\n",
      "74 26300.0\n",
      "75 26300.0\n",
      "76 26300.0\n",
      "77 26300.0\n",
      "78 26300.0\n",
      "79 26300.0\n",
      "80 26300.0\n",
      "81 26300.0\n",
      "82 26300.0\n",
      "83 26300.0\n",
      "84 26300.0\n",
      "85 26300.0\n",
      "86 26300.0\n",
      "87 26300.0\n",
      "88 26300.0\n",
      "89 26300.0\n",
      "90 26300.0\n",
      "91 26300.0\n",
      "92 26300.0\n",
      "93 26300.0\n",
      "94 26300.0\n",
      "95 26300.0\n",
      "96 26300.0\n",
      "97 26300.0\n",
      "98 26300.0\n",
      "99 26300.0\n"
     ]
    }
   ],
   "source": [
    "for epoch in range(100):\n",
    "    y_pred = lrm(x_data)\n",
    "    loss = criterion(y_pred,y_data)\n",
    "    print(epoch,loss.item())\n",
    "    \n",
    "    optimizer.zero_grad()\n",
    "    loss.backward()\n",
    "    \n",
    "    optimizer.step()"
   ]
  },
  {
   "cell_type": "code",
   "execution_count": null,
   "metadata": {},
   "outputs": [],
   "source": []
  }
 ],
 "metadata": {
  "kernelspec": {
   "display_name": "Python 3",
   "language": "python",
   "name": "python3"
  },
  "language_info": {
   "codemirror_mode": {
    "name": "ipython",
    "version": 3
   },
   "file_extension": ".py",
   "mimetype": "text/x-python",
   "name": "python",
   "nbconvert_exporter": "python",
   "pygments_lexer": "ipython3",
   "version": "3.7.9"
  },
  "toc": {
   "base_numbering": 1,
   "nav_menu": {},
   "number_sections": true,
   "sideBar": true,
   "skip_h1_title": false,
   "title_cell": "Table of Contents",
   "title_sidebar": "Contents",
   "toc_cell": false,
   "toc_position": {},
   "toc_section_display": true,
   "toc_window_display": false
  }
 },
 "nbformat": 4,
 "nbformat_minor": 4
}
