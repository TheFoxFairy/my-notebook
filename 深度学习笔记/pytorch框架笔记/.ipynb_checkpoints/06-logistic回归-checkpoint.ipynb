{
 "cells": [
  {
   "cell_type": "code",
   "execution_count": 4,
   "metadata": {
    "ExecuteTime": {
     "end_time": "2021-02-26T09:09:27.457640Z",
     "start_time": "2021-02-26T09:09:27.413327Z"
    }
   },
   "outputs": [],
   "source": [
    "import torchvision\n",
    "\n",
    "# torchvision 是一个数据集集合的模块\n",
    "## root设置数据集存放的路径，train表示是否下载训练集，download表示是否进行下载\n",
    "train_set = torchvision.datasets.MNIST(root=\"./数据集/mnist\",train=True,download=False)\n",
    "test_set = torchvision.datasets.MNIST(root=\"./数据集/mnist\",train=False,download=False)"
   ]
  },
  {
   "cell_type": "code",
   "execution_count": 5,
   "metadata": {
    "ExecuteTime": {
     "end_time": "2021-02-26T09:09:29.643801Z",
     "start_time": "2021-02-26T09:09:28.409447Z"
    }
   },
   "outputs": [],
   "source": [
    "import torchvision\n",
    "\n",
    "# torchvision 是一个数据集集合的模块\n",
    "## root设置数据集存放的路径，train表示是否下载训练集，download表示是否进行下载\n",
    "train_set = torchvision.datasets.CIFAR10(root=\"./数据集/cifar10\",train=True,download=False)\n",
    "test_set = torchvision.datasets.CIFAR10(root=\"./数据集/cifar10\",train=False,download=False)"
   ]
  },
  {
   "cell_type": "code",
   "execution_count": 7,
   "metadata": {
    "ExecuteTime": {
     "end_time": "2021-02-27T02:59:32.555849Z",
     "start_time": "2021-02-27T02:59:32.551945Z"
    }
   },
   "outputs": [],
   "source": [
    "import torch\n",
    "\n",
    "class LinearModel(torch.nn.Module):\n",
    "    \n",
    "    def __init__(self,):\n",
    "        super(LinearModel,self).__init__()\n",
    "        self.linear = torch.nn.Linear(1,1)\n",
    "        \n",
    "    def forward(self,X):\n",
    "        y_pred = self.linear(x)\n",
    "        return y_pred"
   ]
  },
  {
   "cell_type": "code",
   "execution_count": 9,
   "metadata": {
    "ExecuteTime": {
     "end_time": "2021-02-27T03:15:40.659899Z",
     "start_time": "2021-02-27T03:15:40.654043Z"
    }
   },
   "outputs": [],
   "source": [
    "import torch.nn.functional as F\n",
    "\n",
    "class LogisticRegressionModel(torch.nn.Module):\n",
    "    \n",
    "    def __init__(self,):\n",
    "        super(LogisitcRegressionModel,self).__init__()\n",
    "        self.linear = torch.nn.Linear(1,1)\n",
    "        \n",
    "    def forward(self,X):\n",
    "        y_pred = F.sigmoid(self.linear(X))\n",
    "        return y_pred"
   ]
  },
  {
   "cell_type": "code",
   "execution_count": 11,
   "metadata": {
    "ExecuteTime": {
     "end_time": "2021-02-27T03:18:15.684815Z",
     "start_time": "2021-02-27T03:18:15.681847Z"
    }
   },
   "outputs": [],
   "source": [
    "criterion = torch.nn.BCELoss(reduction='sum')"
   ]
  },
  {
   "cell_type": "code",
   "execution_count": 15,
   "metadata": {
    "ExecuteTime": {
     "end_time": "2021-02-27T03:24:33.535226Z",
     "start_time": "2021-02-27T03:24:33.529405Z"
    }
   },
   "outputs": [],
   "source": [
    "x_data = torch.Tensor([\n",
    "    [1.0],[2.0],[3.0]\n",
    "])\n",
    "y_data = torch.Tensor([\n",
    "    [0],[0],[1]\n",
    "])\n",
    "\n",
    "\n",
    "class LogisticRegressionModel(torch.nn.Module):\n",
    "    \n",
    "    def __init__(self,):\n",
    "        super(LogisticRegressionModel,self).__init__()\n",
    "        self.linear = torch.nn.Linear(1,1)\n",
    "        \n",
    "    def forward(self,X):\n",
    "        y_pred = F.sigmoid(self.lieanr(X))\n",
    "        return y_pred\n",
    "    \n",
    "    def fit(self,X,y):\n",
    "        criterion = torch.nn.BCELoss(reduction='sum')\n",
    "        optimizer = torch.optim.SGD(self.parameters(),lr=0.01)\n",
    "        \n",
    "        for epoch in range(1000):\n",
    "            y_pred = self.forward(x_data)\n",
    "            \n",
    "\n",
    "model = LogisticRegressionModel()\n",
    "model.fit(x_data,y_data)"
   ]
  },
  {
   "cell_type": "code",
   "execution_count": null,
   "metadata": {},
   "outputs": [],
   "source": []
  }
 ],
 "metadata": {
  "kernelspec": {
   "display_name": "Python 3",
   "language": "python",
   "name": "python3"
  },
  "language_info": {
   "codemirror_mode": {
    "name": "ipython",
    "version": 3
   },
   "file_extension": ".py",
   "mimetype": "text/x-python",
   "name": "python",
   "nbconvert_exporter": "python",
   "pygments_lexer": "ipython3",
   "version": "3.7.9"
  },
  "toc": {
   "base_numbering": 1,
   "nav_menu": {},
   "number_sections": true,
   "sideBar": true,
   "skip_h1_title": false,
   "title_cell": "Table of Contents",
   "title_sidebar": "Contents",
   "toc_cell": false,
   "toc_position": {},
   "toc_section_display": true,
   "toc_window_display": false
  }
 },
 "nbformat": 4,
 "nbformat_minor": 4
}
