{
 "cells": [
  {
   "cell_type": "code",
   "execution_count": 12,
   "metadata": {
    "ExecuteTime": {
     "end_time": "2021-02-08T14:05:28.651490Z",
     "start_time": "2021-02-08T14:05:28.645090Z"
    }
   },
   "outputs": [
    {
     "data": {
      "text/plain": [
       "(tensor([[1.],\n",
       "         [2.],\n",
       "         [3.]]),\n",
       " tensor([[2.],\n",
       "         [4.],\n",
       "         [6.]]))"
      ]
     },
     "execution_count": 12,
     "metadata": {},
     "output_type": "execute_result"
    }
   ],
   "source": [
    "import torch\n",
    "import numpy as np\n",
    "\n",
    "data = np.array([\n",
    "    [1.0,2.0],\n",
    "    [2.0,4.0],\n",
    "    [3.0,6.0]\n",
    "])\n",
    "data = torch.Tensor(data)\n",
    "x_data,y_data = data[:,:-1],data[:,-1:]\n",
    "x_data,y_data"
   ]
  },
  {
   "cell_type": "code",
   "execution_count": 13,
   "metadata": {
    "ExecuteTime": {
     "end_time": "2021-02-08T14:05:28.940458Z",
     "start_time": "2021-02-08T14:05:28.936554Z"
    }
   },
   "outputs": [],
   "source": [
    "class LinearModel(torch.nn.Module):\n",
    "    def __init__(self,):\n",
    "        super(LinearModel,self).__init__()\n",
    "        self.linear = torch.nn.Linear(1,1)\n",
    "        \n",
    "    def forward(self,x):\n",
    "        y_pred = self.linear(x)\n",
    "        return y_pred\n",
    "    \n",
    "lm = LinearModel()"
   ]
  },
  {
   "cell_type": "code",
   "execution_count": 14,
   "metadata": {
    "ExecuteTime": {
     "end_time": "2021-02-08T14:05:29.248263Z",
     "start_time": "2021-02-08T14:05:29.245334Z"
    }
   },
   "outputs": [],
   "source": [
    "criterion = torch.nn.MSELoss(reduction='sum')\n",
    "optimizer = torch.optim.SGD(lm.parameters(),lr=0.01)"
   ]
  },
  {
   "cell_type": "code",
   "execution_count": 15,
   "metadata": {
    "ExecuteTime": {
     "end_time": "2021-02-08T14:05:29.696255Z",
     "start_time": "2021-02-08T14:05:29.625065Z"
    },
    "scrolled": true
   },
   "outputs": [
    {
     "name": "stdout",
     "output_type": "stream",
     "text": [
      "0 tensor(16.3036, grad_fn=<MseLossBackward>)\n",
      "1 tensor(7.6674, grad_fn=<MseLossBackward>)\n",
      "2 tensor(3.8169, grad_fn=<MseLossBackward>)\n",
      "3 tensor(2.0970, grad_fn=<MseLossBackward>)\n",
      "4 tensor(1.3257, grad_fn=<MseLossBackward>)\n",
      "5 tensor(0.9766, grad_fn=<MseLossBackward>)\n",
      "6 tensor(0.8157, grad_fn=<MseLossBackward>)\n",
      "7 tensor(0.7386, grad_fn=<MseLossBackward>)\n",
      "8 tensor(0.6989, grad_fn=<MseLossBackward>)\n",
      "9 tensor(0.6758, grad_fn=<MseLossBackward>)\n",
      "10 tensor(0.6604, grad_fn=<MseLossBackward>)\n",
      "11 tensor(0.6483, grad_fn=<MseLossBackward>)\n",
      "12 tensor(0.6378, grad_fn=<MseLossBackward>)\n",
      "13 tensor(0.6282, grad_fn=<MseLossBackward>)\n",
      "14 tensor(0.6189, grad_fn=<MseLossBackward>)\n",
      "15 tensor(0.6099, grad_fn=<MseLossBackward>)\n",
      "16 tensor(0.6011, grad_fn=<MseLossBackward>)\n",
      "17 tensor(0.5925, grad_fn=<MseLossBackward>)\n",
      "18 tensor(0.5839, grad_fn=<MseLossBackward>)\n",
      "19 tensor(0.5755, grad_fn=<MseLossBackward>)\n",
      "20 tensor(0.5673, grad_fn=<MseLossBackward>)\n",
      "21 tensor(0.5591, grad_fn=<MseLossBackward>)\n",
      "22 tensor(0.5511, grad_fn=<MseLossBackward>)\n",
      "23 tensor(0.5431, grad_fn=<MseLossBackward>)\n",
      "24 tensor(0.5353, grad_fn=<MseLossBackward>)\n",
      "25 tensor(0.5277, grad_fn=<MseLossBackward>)\n",
      "26 tensor(0.5201, grad_fn=<MseLossBackward>)\n",
      "27 tensor(0.5126, grad_fn=<MseLossBackward>)\n",
      "28 tensor(0.5052, grad_fn=<MseLossBackward>)\n",
      "29 tensor(0.4980, grad_fn=<MseLossBackward>)\n",
      "30 tensor(0.4908, grad_fn=<MseLossBackward>)\n",
      "31 tensor(0.4838, grad_fn=<MseLossBackward>)\n",
      "32 tensor(0.4768, grad_fn=<MseLossBackward>)\n",
      "33 tensor(0.4699, grad_fn=<MseLossBackward>)\n",
      "34 tensor(0.4632, grad_fn=<MseLossBackward>)\n",
      "35 tensor(0.4565, grad_fn=<MseLossBackward>)\n",
      "36 tensor(0.4500, grad_fn=<MseLossBackward>)\n",
      "37 tensor(0.4435, grad_fn=<MseLossBackward>)\n",
      "38 tensor(0.4371, grad_fn=<MseLossBackward>)\n",
      "39 tensor(0.4309, grad_fn=<MseLossBackward>)\n",
      "40 tensor(0.4247, grad_fn=<MseLossBackward>)\n",
      "41 tensor(0.4186, grad_fn=<MseLossBackward>)\n",
      "42 tensor(0.4125, grad_fn=<MseLossBackward>)\n",
      "43 tensor(0.4066, grad_fn=<MseLossBackward>)\n",
      "44 tensor(0.4008, grad_fn=<MseLossBackward>)\n",
      "45 tensor(0.3950, grad_fn=<MseLossBackward>)\n",
      "46 tensor(0.3893, grad_fn=<MseLossBackward>)\n",
      "47 tensor(0.3837, grad_fn=<MseLossBackward>)\n",
      "48 tensor(0.3782, grad_fn=<MseLossBackward>)\n",
      "49 tensor(0.3728, grad_fn=<MseLossBackward>)\n",
      "50 tensor(0.3674, grad_fn=<MseLossBackward>)\n",
      "51 tensor(0.3622, grad_fn=<MseLossBackward>)\n",
      "52 tensor(0.3569, grad_fn=<MseLossBackward>)\n",
      "53 tensor(0.3518, grad_fn=<MseLossBackward>)\n",
      "54 tensor(0.3468, grad_fn=<MseLossBackward>)\n",
      "55 tensor(0.3418, grad_fn=<MseLossBackward>)\n",
      "56 tensor(0.3369, grad_fn=<MseLossBackward>)\n",
      "57 tensor(0.3320, grad_fn=<MseLossBackward>)\n",
      "58 tensor(0.3273, grad_fn=<MseLossBackward>)\n",
      "59 tensor(0.3225, grad_fn=<MseLossBackward>)\n",
      "60 tensor(0.3179, grad_fn=<MseLossBackward>)\n",
      "61 tensor(0.3133, grad_fn=<MseLossBackward>)\n",
      "62 tensor(0.3088, grad_fn=<MseLossBackward>)\n",
      "63 tensor(0.3044, grad_fn=<MseLossBackward>)\n",
      "64 tensor(0.3000, grad_fn=<MseLossBackward>)\n",
      "65 tensor(0.2957, grad_fn=<MseLossBackward>)\n",
      "66 tensor(0.2915, grad_fn=<MseLossBackward>)\n",
      "67 tensor(0.2873, grad_fn=<MseLossBackward>)\n",
      "68 tensor(0.2831, grad_fn=<MseLossBackward>)\n",
      "69 tensor(0.2791, grad_fn=<MseLossBackward>)\n",
      "70 tensor(0.2751, grad_fn=<MseLossBackward>)\n",
      "71 tensor(0.2711, grad_fn=<MseLossBackward>)\n",
      "72 tensor(0.2672, grad_fn=<MseLossBackward>)\n",
      "73 tensor(0.2634, grad_fn=<MseLossBackward>)\n",
      "74 tensor(0.2596, grad_fn=<MseLossBackward>)\n",
      "75 tensor(0.2559, grad_fn=<MseLossBackward>)\n",
      "76 tensor(0.2522, grad_fn=<MseLossBackward>)\n",
      "77 tensor(0.2486, grad_fn=<MseLossBackward>)\n",
      "78 tensor(0.2450, grad_fn=<MseLossBackward>)\n",
      "79 tensor(0.2415, grad_fn=<MseLossBackward>)\n",
      "80 tensor(0.2380, grad_fn=<MseLossBackward>)\n",
      "81 tensor(0.2346, grad_fn=<MseLossBackward>)\n",
      "82 tensor(0.2312, grad_fn=<MseLossBackward>)\n",
      "83 tensor(0.2279, grad_fn=<MseLossBackward>)\n",
      "84 tensor(0.2246, grad_fn=<MseLossBackward>)\n",
      "85 tensor(0.2214, grad_fn=<MseLossBackward>)\n",
      "86 tensor(0.2182, grad_fn=<MseLossBackward>)\n",
      "87 tensor(0.2151, grad_fn=<MseLossBackward>)\n",
      "88 tensor(0.2120, grad_fn=<MseLossBackward>)\n",
      "89 tensor(0.2089, grad_fn=<MseLossBackward>)\n",
      "90 tensor(0.2059, grad_fn=<MseLossBackward>)\n",
      "91 tensor(0.2030, grad_fn=<MseLossBackward>)\n",
      "92 tensor(0.2000, grad_fn=<MseLossBackward>)\n",
      "93 tensor(0.1972, grad_fn=<MseLossBackward>)\n",
      "94 tensor(0.1943, grad_fn=<MseLossBackward>)\n",
      "95 tensor(0.1915, grad_fn=<MseLossBackward>)\n",
      "96 tensor(0.1888, grad_fn=<MseLossBackward>)\n",
      "97 tensor(0.1861, grad_fn=<MseLossBackward>)\n",
      "98 tensor(0.1834, grad_fn=<MseLossBackward>)\n",
      "99 tensor(0.1808, grad_fn=<MseLossBackward>)\n"
     ]
    }
   ],
   "source": [
    "for epoch in range(100):\n",
    "    y_pred = lm(x_data)\n",
    "    loss = criterion(y_pred,y_data)\n",
    "    print(epoch,loss)\n",
    "    \n",
    "    optimizer.zero_grad()\n",
    "    loss.backward()\n",
    "    optimizer.step()"
   ]
  },
  {
   "cell_type": "code",
   "execution_count": 16,
   "metadata": {
    "ExecuteTime": {
     "end_time": "2021-02-08T14:12:26.684660Z",
     "start_time": "2021-02-08T14:12:26.678300Z"
    },
    "scrolled": true
   },
   "outputs": [
    {
     "name": "stdout",
     "output_type": "stream",
     "text": [
      "w= 1.7169560194015503\n",
      "b= 0.6434254050254822\n",
      "y_pred= tensor([[7.5112]])\n"
     ]
    }
   ],
   "source": [
    "# 输出权重与偏置\n",
    "print(\"w=\",lm.linear.weight.item())\n",
    "print(\"b=\",lm.linear.bias.item())\n",
    "\n",
    "# 测试数据\n",
    "x_test = torch.Tensor([[4.0]])\n",
    "y_test = lm(x_test)\n",
    "print(\"y_pred=\",y_test.data)"
   ]
  },
  {
   "cell_type": "code",
   "execution_count": 27,
   "metadata": {
    "ExecuteTime": {
     "end_time": "2021-02-11T05:24:33.273551Z",
     "start_time": "2021-02-11T05:24:33.172004Z"
    }
   },
   "outputs": [
    {
     "name": "stdout",
     "output_type": "stream",
     "text": [
      "0 tensor(29.2487, grad_fn=<MseLossBackward>)\n",
      "1 tensor(28.6830, grad_fn=<MseLossBackward>)\n",
      "2 tensor(28.0118, grad_fn=<MseLossBackward>)\n",
      "3 tensor(27.2174, grad_fn=<MseLossBackward>)\n",
      "4 tensor(26.2801, grad_fn=<MseLossBackward>)\n",
      "5 tensor(25.1781, grad_fn=<MseLossBackward>)\n",
      "6 tensor(23.8886, grad_fn=<MseLossBackward>)\n",
      "7 tensor(22.3886, grad_fn=<MseLossBackward>)\n",
      "8 tensor(20.6569, grad_fn=<MseLossBackward>)\n",
      "9 tensor(18.6771, grad_fn=<MseLossBackward>)\n",
      "10 tensor(16.4430, grad_fn=<MseLossBackward>)\n",
      "11 tensor(13.9658, grad_fn=<MseLossBackward>)\n",
      "12 tensor(11.2868, grad_fn=<MseLossBackward>)\n",
      "13 tensor(8.4945, grad_fn=<MseLossBackward>)\n",
      "14 tensor(5.7525, grad_fn=<MseLossBackward>)\n",
      "15 tensor(3.3384, grad_fn=<MseLossBackward>)\n",
      "16 tensor(1.7036, grad_fn=<MseLossBackward>)\n",
      "17 tensor(1.5592, grad_fn=<MseLossBackward>)\n",
      "18 tensor(1.5592, grad_fn=<MseLossBackward>)\n",
      "19 tensor(1.3836, grad_fn=<MseLossBackward>)\n",
      "20 tensor(1.3289, grad_fn=<MseLossBackward>)\n",
      "21 tensor(1.1811, grad_fn=<MseLossBackward>)\n",
      "22 tensor(1.0444, grad_fn=<MseLossBackward>)\n",
      "23 tensor(0.9155, grad_fn=<MseLossBackward>)\n",
      "24 tensor(0.8193, grad_fn=<MseLossBackward>)\n",
      "25 tensor(0.7069, grad_fn=<MseLossBackward>)\n",
      "26 tensor(0.5922, grad_fn=<MseLossBackward>)\n",
      "27 tensor(0.4728, grad_fn=<MseLossBackward>)\n",
      "28 tensor(0.3557, grad_fn=<MseLossBackward>)\n",
      "29 tensor(0.2529, grad_fn=<MseLossBackward>)\n",
      "30 tensor(0.1914, grad_fn=<MseLossBackward>)\n",
      "31 tensor(0.1468, grad_fn=<MseLossBackward>)\n",
      "32 tensor(0.1042, grad_fn=<MseLossBackward>)\n",
      "33 tensor(0.0867, grad_fn=<MseLossBackward>)\n",
      "34 tensor(0.0659, grad_fn=<MseLossBackward>)\n",
      "35 tensor(0.0471, grad_fn=<MseLossBackward>)\n",
      "36 tensor(0.0316, grad_fn=<MseLossBackward>)\n",
      "37 tensor(0.0235, grad_fn=<MseLossBackward>)\n",
      "38 tensor(0.0156, grad_fn=<MseLossBackward>)\n",
      "39 tensor(0.0099, grad_fn=<MseLossBackward>)\n",
      "40 tensor(0.0086, grad_fn=<MseLossBackward>)\n",
      "41 tensor(0.0050, grad_fn=<MseLossBackward>)\n",
      "42 tensor(0.0028, grad_fn=<MseLossBackward>)\n",
      "43 tensor(0.0015, grad_fn=<MseLossBackward>)\n",
      "44 tensor(0.0014, grad_fn=<MseLossBackward>)\n",
      "45 tensor(0.0002, grad_fn=<MseLossBackward>)\n",
      "46 tensor(7.4654e-05, grad_fn=<MseLossBackward>)\n",
      "47 tensor(0.0007, grad_fn=<MseLossBackward>)\n",
      "48 tensor(0.0001, grad_fn=<MseLossBackward>)\n",
      "49 tensor(0.0012, grad_fn=<MseLossBackward>)\n",
      "50 tensor(0.0012, grad_fn=<MseLossBackward>)\n",
      "51 tensor(0.0003, grad_fn=<MseLossBackward>)\n",
      "52 tensor(0.0002, grad_fn=<MseLossBackward>)\n",
      "53 tensor(0.0002, grad_fn=<MseLossBackward>)\n",
      "54 tensor(0.0001, grad_fn=<MseLossBackward>)\n",
      "55 tensor(0.0001, grad_fn=<MseLossBackward>)\n",
      "56 tensor(8.4829e-05, grad_fn=<MseLossBackward>)\n",
      "57 tensor(7.3223e-05, grad_fn=<MseLossBackward>)\n",
      "58 tensor(7.3223e-05, grad_fn=<MseLossBackward>)\n",
      "59 tensor(6.6235e-05, grad_fn=<MseLossBackward>)\n",
      "60 tensor(6.6036e-05, grad_fn=<MseLossBackward>)\n",
      "61 tensor(5.9061e-05, grad_fn=<MseLossBackward>)\n",
      "62 tensor(5.2116e-05, grad_fn=<MseLossBackward>)\n",
      "63 tensor(4.4494e-05, grad_fn=<MseLossBackward>)\n",
      "64 tensor(3.6376e-05, grad_fn=<MseLossBackward>)\n",
      "65 tensor(2.8116e-05, grad_fn=<MseLossBackward>)\n",
      "66 tensor(2.0347e-05, grad_fn=<MseLossBackward>)\n",
      "67 tensor(1.7789e-05, grad_fn=<MseLossBackward>)\n",
      "68 tensor(1.3901e-05, grad_fn=<MseLossBackward>)\n",
      "69 tensor(1.0314e-05, grad_fn=<MseLossBackward>)\n",
      "70 tensor(7.1132e-06, grad_fn=<MseLossBackward>)\n",
      "71 tensor(5.9619e-06, grad_fn=<MseLossBackward>)\n",
      "72 tensor(4.2907e-06, grad_fn=<MseLossBackward>)\n",
      "73 tensor(2.9273e-06, grad_fn=<MseLossBackward>)\n",
      "74 tensor(1.8666e-06, grad_fn=<MseLossBackward>)\n",
      "75 tensor(1.3956e-06, grad_fn=<MseLossBackward>)\n",
      "76 tensor(7.7526e-07, grad_fn=<MseLossBackward>)\n",
      "77 tensor(4.2753e-07, grad_fn=<MseLossBackward>)\n",
      "78 tensor(4.4044e-07, grad_fn=<MseLossBackward>)\n",
      "79 tensor(1.5837e-07, grad_fn=<MseLossBackward>)\n",
      "80 tensor(5.3853e-08, grad_fn=<MseLossBackward>)\n",
      "81 tensor(3.5495e-08, grad_fn=<MseLossBackward>)\n",
      "82 tensor(1.1137e-07, grad_fn=<MseLossBackward>)\n",
      "83 tensor(1.7201e-08, grad_fn=<MseLossBackward>)\n",
      "84 tensor(3.2826e-07, grad_fn=<MseLossBackward>)\n",
      "85 tensor(3.2826e-07, grad_fn=<MseLossBackward>)\n",
      "86 tensor(8.3448e-08, grad_fn=<MseLossBackward>)\n",
      "87 tensor(2.5390e-08, grad_fn=<MseLossBackward>)\n",
      "88 tensor(2.5390e-08, grad_fn=<MseLossBackward>)\n",
      "89 tensor(2.2254e-08, grad_fn=<MseLossBackward>)\n",
      "90 tensor(2.2254e-08, grad_fn=<MseLossBackward>)\n",
      "91 tensor(1.5795e-08, grad_fn=<MseLossBackward>)\n",
      "92 tensor(1.8214e-08, grad_fn=<MseLossBackward>)\n",
      "93 tensor(1.4903e-08, grad_fn=<MseLossBackward>)\n",
      "94 tensor(1.2214e-08, grad_fn=<MseLossBackward>)\n",
      "95 tensor(1.1818e-08, grad_fn=<MseLossBackward>)\n",
      "96 tensor(1.0595e-08, grad_fn=<MseLossBackward>)\n",
      "97 tensor(9.2391e-09, grad_fn=<MseLossBackward>)\n",
      "98 tensor(7.7771e-09, grad_fn=<MseLossBackward>)\n",
      "99 tensor(6.2814e-09, grad_fn=<MseLossBackward>)\n",
      "w= 1.9999511241912842\n",
      "b= 9.827659232541919e-05\n",
      "y_pred= tensor([[7.9999]])\n"
     ]
    }
   ],
   "source": [
    "class LinearModel(torch.nn.Module):\n",
    "    def __init__(self,):\n",
    "        super(LinearModel,self).__init__()\n",
    "        self.linear = torch.nn.Linear(1,1)\n",
    "        \n",
    "    def forward(self,x):\n",
    "        y_pred = self.linear(x)\n",
    "        return y_pred\n",
    "    \n",
    "lm = LinearModel()\n",
    "criterion = torch.nn.MSELoss(reduction='sum')\n",
    "optimizer = torch.optim.Rprop(lm.parameters(),lr=0.01)\n",
    "\n",
    "for epoch in range(100):\n",
    "    y_pred = lm(x_data)\n",
    "    loss = criterion(y_pred,y_data)\n",
    "    print(epoch,loss)\n",
    "    \n",
    "    optimizer.zero_grad()\n",
    "    loss.backward()\n",
    "    optimizer.step()\n",
    "    \n",
    "    \n",
    "# 输出权重与偏置\n",
    "print(\"w=\",lm.linear.weight.item())\n",
    "print(\"b=\",lm.linear.bias.item())\n",
    "\n",
    "# 测试数据\n",
    "x_test = torch.Tensor([[4.0]])\n",
    "y_test = lm(x_test)\n",
    "print(\"y_pred=\",y_test.data)"
   ]
  },
  {
   "cell_type": "code",
   "execution_count": null,
   "metadata": {},
   "outputs": [],
   "source": []
  }
 ],
 "metadata": {
  "kernelspec": {
   "display_name": "Python 3",
   "language": "python",
   "name": "python3"
  },
  "language_info": {
   "codemirror_mode": {
    "name": "ipython",
    "version": 3
   },
   "file_extension": ".py",
   "mimetype": "text/x-python",
   "name": "python",
   "nbconvert_exporter": "python",
   "pygments_lexer": "ipython3",
   "version": "3.7.9"
  },
  "toc": {
   "base_numbering": 1,
   "nav_menu": {},
   "number_sections": true,
   "sideBar": true,
   "skip_h1_title": false,
   "title_cell": "Table of Contents",
   "title_sidebar": "Contents",
   "toc_cell": false,
   "toc_position": {},
   "toc_section_display": true,
   "toc_window_display": false
  }
 },
 "nbformat": 4,
 "nbformat_minor": 4
}
