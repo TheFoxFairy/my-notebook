{
 "cells": [
  {
   "cell_type": "code",
   "execution_count": 1,
   "metadata": {
    "ExecuteTime": {
     "end_time": "2021-01-14T06:58:26.833039Z",
     "start_time": "2021-01-14T06:58:25.086358Z"
    }
   },
   "outputs": [],
   "source": [
    "import torch\n",
    "import numpy as np\n",
    "import matplotlib.pyplot as plt"
   ]
  },
  {
   "cell_type": "code",
   "execution_count": 2,
   "metadata": {
    "ExecuteTime": {
     "end_time": "2021-01-14T06:58:26.839868Z",
     "start_time": "2021-01-14T06:58:26.834012Z"
    }
   },
   "outputs": [
    {
     "data": {
      "text/plain": [
       "array([[1., 2.],\n",
       "       [2., 4.],\n",
       "       [3., 6.]])"
      ]
     },
     "execution_count": 2,
     "metadata": {},
     "output_type": "execute_result"
    }
   ],
   "source": [
    "data = np.array([\n",
    "    [1.0,2.0,3.0],\n",
    "    [2.0,4.0,6.0]\n",
    "]).T\n",
    "data"
   ]
  },
  {
   "cell_type": "code",
   "execution_count": 84,
   "metadata": {
    "ExecuteTime": {
     "end_time": "2021-01-14T07:45:17.262954Z",
     "start_time": "2021-01-14T07:45:17.164810Z"
    }
   },
   "outputs": [
    {
     "name": "stdout",
     "output_type": "stream",
     "text": [
      "Epoch:0;w=[0.78492176];loss=19.761654019101606\n",
      "Epoch:1;w=[1.10327226];loss=10.763066291579577\n",
      "Epoch:2;w=[1.34000838];loss=2.0585488425125282\n",
      "Epoch:3;w=[1.52137408];loss=0.23852850084742624\n",
      "Epoch:4;w=[1.65290048];loss=0.12544572606431428\n",
      "Epoch:5;w=[1.74453475];loss=0.30842387279914873\n",
      "Epoch:6;w=[1.8147366];loss=0.035737740336802645\n",
      "Epoch:7;w=[1.86564699];loss=0.01879501513873919\n",
      "Epoch:8;w=[1.90111618];loss=0.04620987530046749\n",
      "Epoch:9;w=[1.92702374];loss=0.07128169008299051\n",
      "Epoch:10;w=[1.94628947];loss=0.01363336772602391\n",
      "Epoch:11;w=[1.96036163];loss=0.02103034225292611\n",
      "Epoch:12;w=[1.97074688];loss=0.011454049726002743\n",
      "Epoch:13;w=[1.9784112];loss=0.006238379458968999\n",
      "Epoch:14;w=[1.98411064];loss=0.0011931552279355292\n",
      "Epoch:15;w=[1.98827365];loss=0.0018405183010251531\n",
      "Epoch:16;w=[1.99136941];loss=0.0003520183482622093\n",
      "Epoch:17;w=[1.9937411];loss=4.078912637277499e-05\n",
      "Epoch:18;w=[1.99538093];loss=0.0002855775630997258\n",
      "Epoch:19;w=[1.99665025];loss=1.1683493415257955e-05\n",
      "predict (after training) 4 7.986600998797813\n"
     ]
    },
    {
     "data": {
      "image/png": "[encoded data removed]",
      "text/plain": [
       "<Figure size 432x288 with 1 Axes>"
      ]
     },
     "metadata": {
      "needs_background": "light"
     },
     "output_type": "display_data"
    }
   ],
   "source": [
    "# 穷举法\n",
    "\n",
    "class LinearModel:\n",
    "    def __init__(self,eta = 0.01,batch_size=2):\n",
    "        self.w = None\n",
    "        self.eta = eta\n",
    "        self.batch_size = batch_size\n",
    "    \n",
    "    def init_params(self,data):\n",
    "        self.X,self.y = data[:,:-1],data[:,-1]\n",
    "        self.n_samples,self.n_features = self.X.shape\n",
    "        self.w = np.random.random(self.n_features)\n",
    "        self.b = np.random.random(1).flatten()[0]\n",
    "    \n",
    "    def cost(self,x,y):\n",
    "        y_pred = self.forward(x)\n",
    "        return np.sum((y-y_pred)**2)\n",
    "    \n",
    "    def forward(self,x):\n",
    "        return x.dot(self.w)\n",
    "    \n",
    "    def backward(self,):\n",
    "        pass\n",
    "    \n",
    "    def gradient(self,x,y):\n",
    "        return 2*(self.forward(x)-y).dot(x)\n",
    "    \n",
    "    def prediction(self,x):\n",
    "        x = np.array(x)\n",
    "        return self.forward(x)\n",
    "    \n",
    "    def fit(self,data):\n",
    "        self.init_params(data)\n",
    "        X,y = data[:,:-1].flatten(),data[:,-1]\n",
    "        \n",
    "        loss_list = []\n",
    "        w_list = []\n",
    "        for epoch in range(20):\n",
    "            \n",
    "            Xy = np.c_[X,y]\n",
    "            np.random.shuffle(Xy)\n",
    "            \n",
    "            for i in range(0,self.n_samples,self.batch_size):\n",
    "                xi,yi = Xy[i:i+self.batch_size,:-1],Xy[i:i+self.batch_size,-1]\n",
    "                cost_val = self.cost(xi,yi)\n",
    "                grad_val = self.gradient(xi,yi)\n",
    "                self.w -= self.eta*grad_val\n",
    "                \n",
    "            w_list.append(self.w)\n",
    "            loss_list.append(cost_val)\n",
    "            print(\"Epoch:{};w={};loss={}\".format(epoch,self.w,cost_val))\n",
    "        print(\"predict (after training)\",4,self.prediction(4)[0])\n",
    "        self.plot(w_list,loss_list)\n",
    "    \n",
    "    def plot(self,w,loss):\n",
    "        plt.plot(np.arange(0,len(w),1),loss)\n",
    "\n",
    "lm = LinearModel()\n",
    "lm.fit(data)"
   ]
  },
  {
   "cell_type": "code",
   "execution_count": null,
   "metadata": {},
   "outputs": [],
   "source": [
    "# 梯度下降法\n"
   ]
  }
 ],
 "metadata": {
  "kernelspec": {
   "display_name": "Python 3",
   "language": "python",
   "name": "python3"
  },
  "language_info": {
   "codemirror_mode": {
    "name": "ipython",
    "version": 3
   },
   "file_extension": ".py",
   "mimetype": "text/x-python",
   "name": "python",
   "nbconvert_exporter": "python",
   "pygments_lexer": "ipython3",
   "version": "3.7.9"
  },
  "toc": {
   "base_numbering": 1,
   "nav_menu": {},
   "number_sections": true,
   "sideBar": true,
   "skip_h1_title": false,
   "title_cell": "Table of Contents",
   "title_sidebar": "Contents",
   "toc_cell": false,
   "toc_position": {},
   "toc_section_display": true,
   "toc_window_display": false
  }
 },
 "nbformat": 4,
 "nbformat_minor": 4
}
